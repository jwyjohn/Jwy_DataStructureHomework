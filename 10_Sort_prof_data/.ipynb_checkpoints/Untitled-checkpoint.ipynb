{
 "cells": [
  {
   "cell_type": "code",
   "execution_count": 29,
   "id": "aee7c5ea-143f-4385-8b63-a5226e4f3162",
   "metadata": {},
   "outputs": [],
   "source": [
    "import matplotlib\n",
    "import matplotlib.pyplot as plt\n",
    "import numpy as np\n",
    "from math import log\n",
    "matplotlib.use('TkAgg')"
   ]
  },
  {
   "cell_type": "code",
   "execution_count": 20,
   "id": "26799dd2-c782-41c5-933c-9d4f3063f1bd",
   "metadata": {},
   "outputs": [],
   "source": [
    "sort_names = ['default_sort',\n",
    "              'bubble_sort',\n",
    "              'selection_sort',\n",
    "              'insertion_sort',\n",
    "              'binary_insertion_sort',\n",
    "              'shell_sort',\n",
    "              'quick_sort',\n",
    "              'heap_sort',\n",
    "              'merge_sort',\n",
    "              'lsd_radix_sort',\n",
    "              'msd_radix_sort']\n",
    "res = {name:[] for name in sort_names}"
   ]
  },
  {
   "cell_type": "code",
   "execution_count": 21,
   "id": "53d5b308-6ccb-4e80-8a97-26eb32f93368",
   "metadata": {},
   "outputs": [
    {
     "data": {
      "text/plain": [
       "{'default_sort': [],\n",
       " 'bubble_sort': [],\n",
       " 'selection_sort': [],\n",
       " 'insertion_sort': [],\n",
       " 'binary_insertion_sort': [],\n",
       " 'shell_sort': [],\n",
       " 'quick_sort': [],\n",
       " 'heap_sort': [],\n",
       " 'merge_sort': [],\n",
       " 'lsd_radix_sort': [],\n",
       " 'msd_radix_sort': []}"
      ]
     },
     "execution_count": 21,
     "metadata": {},
     "output_type": "execute_result"
    }
   ],
   "source": [
    "res"
   ]
  },
  {
   "cell_type": "code",
   "execution_count": 38,
   "id": "0f5b1add-c67f-45c8-9ec1-65062c0cb966",
   "metadata": {
    "tags": []
   },
   "outputs": [
    {
     "data": {
      "text/plain": [
       "['default_sort,1000,127\\n',\n",
       " 'bubble_sort,1000,4075\\n',\n",
       " 'selection_sort,1000,3579\\n',\n",
       " 'insertion_sort,1000,908\\n',\n",
       " 'binary_insertion_sort,1000,439\\n']"
      ]
     },
     "execution_count": 38,
     "metadata": {},
     "output_type": "execute_result"
    }
   ],
   "source": [
    "lines = []\n",
    "with  open(\"results_py.txt\",'r') as f:\n",
    "    lines = f.readlines()\n",
    "lines[0:5]"
   ]
  },
  {
   "cell_type": "code",
   "execution_count": 56,
   "id": "7664b219-f609-46d1-84e2-28bac3df84a8",
   "metadata": {},
   "outputs": [],
   "source": [
    "res = {name:[] for name in sort_names}\n",
    "for l in lines:\n",
    "    name, num, clock = l.strip().split(',')\n",
    "    res[name].append((eval(num),eval(clock)))"
   ]
  },
  {
   "cell_type": "code",
   "execution_count": 35,
   "id": "350e00fd-5df9-4f83-ad0a-5d04f8554a87",
   "metadata": {},
   "outputs": [
    {
     "data": {
      "text/plain": [
       "['Solarize_Light2',\n",
       " '_classic_test_patch',\n",
       " 'bmh',\n",
       " 'classic',\n",
       " 'dark_background',\n",
       " 'fast',\n",
       " 'fivethirtyeight',\n",
       " 'ggplot',\n",
       " 'grayscale',\n",
       " 'seaborn',\n",
       " 'seaborn-bright',\n",
       " 'seaborn-colorblind',\n",
       " 'seaborn-dark',\n",
       " 'seaborn-dark-palette',\n",
       " 'seaborn-darkgrid',\n",
       " 'seaborn-deep',\n",
       " 'seaborn-muted',\n",
       " 'seaborn-notebook',\n",
       " 'seaborn-paper',\n",
       " 'seaborn-pastel',\n",
       " 'seaborn-poster',\n",
       " 'seaborn-talk',\n",
       " 'seaborn-ticks',\n",
       " 'seaborn-white',\n",
       " 'seaborn-whitegrid',\n",
       " 'tableau-colorblind10']"
      ]
     },
     "execution_count": 35,
     "metadata": {},
     "output_type": "execute_result"
    }
   ],
   "source": [
    "plt.style.available"
   ]
  },
  {
   "cell_type": "code",
   "execution_count": 60,
   "id": "7802fb7d-9c0b-4d85-ab68-0602695c80df",
   "metadata": {},
   "outputs": [],
   "source": [
    "plt.style.use('default')"
   ]
  },
  {
   "cell_type": "code",
   "execution_count": null,
   "id": "3f1ec913-f99c-4f8e-8229-218c5ab6d9fc",
   "metadata": {
    "tags": []
   },
   "outputs": [],
   "source": [
    "dpi = 300\n",
    "fig = plt.figure(figsize=(20, 9), dpi=dpi)\n",
    "plt.grid(True, lw = 0.5, ls = '--', c = '.65',which='both')\n",
    "plt.xlabel('N')\n",
    "plt.ylabel('Time')\n",
    "for i in res.items():\n",
    "    tx = [j[0] for j in i[1]]\n",
    "    ty = [j[1] for j in i[1]]\n",
    "    plt.loglog(tx,ty,label=i[0])\n",
    "plt.legend()\n",
    "fig.show()"
   ]
  },
  {
   "cell_type": "code",
   "execution_count": 66,
   "id": "9d7d6ebe-7d5d-4e7f-bdb8-7987b336a904",
   "metadata": {},
   "outputs": [
    {
     "name": "stderr",
     "output_type": "stream",
     "text": [
      "The PostScript backend does not support transparency; partially transparent artists will be rendered opaque.\n",
      "The PostScript backend does not support transparency; partially transparent artists will be rendered opaque.\n"
     ]
    }
   ],
   "source": [
    "dpi = 300\n",
    "matplotlib.use('Agg')\n",
    "fig = plt.figure(figsize=(20, 9), dpi=dpi)\n",
    "plt.grid(True, lw = 0.5, ls = '--', c = '.65')\n",
    "plt.xlabel('N')\n",
    "plt.ylabel('Time')\n",
    "for i in res.items():\n",
    "    tx = [j[0] for j in i[1]]\n",
    "    ty = [j[1] for j in i[1]]\n",
    "    plt.loglog(tx,ty,label=i[0])\n",
    "plt.legend()\n",
    "plt.savefig('random.eps',format='eps')\n",
    "matplotlib.use('TkAgg')"
   ]
  }
 ],
 "metadata": {
  "kernelspec": {
   "display_name": "Python 3 (ipykernel)",
   "language": "python",
   "name": "python3"
  },
  "language_info": {
   "codemirror_mode": {
    "name": "ipython",
    "version": 3
   },
   "file_extension": ".py",
   "mimetype": "text/x-python",
   "name": "python",
   "nbconvert_exporter": "python",
   "pygments_lexer": "ipython3",
   "version": "3.8.3"
  }
 },
 "nbformat": 4,
 "nbformat_minor": 5
}
